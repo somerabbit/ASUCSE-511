{
 "cells": [
  {
   "cell_type": "code",
   "execution_count": 41,
   "metadata": {
    "scrolled": false
   },
   "outputs": [],
   "source": [
    "from unqlite import UnQLite\n",
    "\n",
    "db = UnQLite('sample.db')\n",
    "data = db.collection('data')"
   ]
  },
  {
   "cell_type": "code",
   "execution_count": 42,
   "metadata": {
    "scrolled": false
   },
   "outputs": [],
   "source": [
    "# Graded Cell, PartID: o1flK\n",
    "import math\n",
    "\n",
    "def FindBusinessBasedOnCity(cityToSearch, saveLocation1, collection):\n",
    "   \n",
    "    # create list to store value \n",
    "    output_data=[]\n",
    "    \n",
    "    # go over the data and append data with name \"cityToSearch\"\n",
    "    for row in range(len(collection)):\n",
    "        row_data=collection[row]\n",
    "        if row_data['city'].decode('utf-8')==cityToSearch: \n",
    "            output_data.append([row_data['name'].decode('utf-8'),row_data['full_address'].decode('utf-8'),row_data['city'].decode('utf-8'),row_data['state'].decode('utf-8')])\n",
    "    #print(output_data)\n",
    "   \n",
    "    # save to file\n",
    "    f = open(saveLocation1, 'w')\n",
    "    for line in output_data:\n",
    "       f.write('$'.join(str(s) for s in line))\n",
    "       f.write('\\n')\n",
    "    f.close()\n",
    "    \n",
    "\n",
    "def FindBusinessBasedOnLocation(categoriesToSearch, myLocation, maxDistance, saveLocation2, collection):\n",
    "    \n",
    "    \n",
    "    # create list to store value\n",
    "    output_data=[]\n",
    "    \n",
    "\n",
    "    #find la1 and lon1 \n",
    "    lat1=myLocation[0]\n",
    "    lon1=myLocation[1]\n",
    "    \n",
    "    # go over the data, calculate the distance between myLocation and collection location. \n",
    "    #When the distance is less/equal than maxDistance and categoriesToSearch is in data, \n",
    "    #append the name of bussiness\n",
    "    \n",
    "    for row in range(len(collection)):\n",
    "        row_data=collection[row]\n",
    "        lat2=row_data['latitude']\n",
    "        lon2=row_data['longitude']\n",
    "        distance_two_locations=distance(lat2, lon2, lat1, lon1)\n",
    "        \n",
    "        \n",
    "        if distance_two_locations<=maxDistance:\n",
    "            for i in categoriesToSearch:\n",
    "                for j in row_data['categories']:\n",
    "                    if i == j.decode('utf-8') and row_data['name'].decode('utf-8') not in output_data :\n",
    "                        output_data.append(row_data['name'].decode('utf-8'))\n",
    "        \n",
    "            \n",
    "    f = open(saveLocation2, 'w')\n",
    "    for line in output_data:\n",
    "        f.write(line)\n",
    "        f.write('\\n')\n",
    "    f.close()\n",
    "\n",
    "#distance function        \n",
    "def distance(lat2, lon2, lat1, lon1):\n",
    "    r=3959\n",
    "    phi1,phi2=math.radians(lat1),math.radians(lat2)\n",
    "    delta_phi,delta_lam=math.radians(lat2-lat1),math.radians(lon2-lon1)\n",
    "    a=math.sin(delta_phi/2)*math.sin(delta_phi/2)+math.cos(phi1)*math.cos(phi2)*math.sin(delta_lam/2)*math.sin(delta_lam/2)\n",
    "    c=2*math.atan2(math.sqrt(a), math.sqrt(1-a))\n",
    "    d=r*c\n",
    "    return d"
   ]
  },
  {
   "cell_type": "code",
   "execution_count": 43,
   "metadata": {
    "scrolled": false
   },
   "outputs": [
    {
     "name": "stdout",
     "output_type": "stream",
     "text": [
      "Correct! You FindBusinessByCity function passes these test cases. This does not cover all possible test edge cases, however, so make sure that your function covers them before submitting!\n"
     ]
    }
   ],
   "source": [
    "true_results = [\"VinciTorio's Restaurant$1835 E Elliot Rd, Ste C109, Tempe, AZ 85284$Tempe$AZ\", \"P.croissants$7520 S Rural Rd, Tempe, AZ 85283$Tempe$AZ\", \"Salt Creek Home$1725 W Ruby Dr, Tempe, AZ 85284$Tempe$AZ\"]\n",
    "\n",
    "try:\n",
    "    FindBusinessBasedOnCity('Tempe', 'output_city.txt', data)\n",
    "except NameError as e:\n",
    "    print ('The FindBusinessBasedOnCity function is not defined! You must run the cell containing the function before running this evaluation cell.')\n",
    "except TypeError as e:\n",
    "    print (\"The FindBusinessBasedOnCity function is supposed to accept three arguments. Yours does not!\")\n",
    "    \n",
    "try:\n",
    "    opf = open('output_city.txt', 'r')\n",
    "except FileNotFoundError as e:\n",
    "    print (\"The FindBusinessBasedOnCity function does not write data to the correct location.\")\n",
    "    \n",
    "lines = opf.readlines()\n",
    "if len(lines) != 3:\n",
    "    print (\"The FindBusinessBasedOnCity function does not find the correct number of results, should be 3.\")\n",
    "    \n",
    "lines = [line.strip() for line in lines]\n",
    "if sorted(lines) == sorted(true_results):\n",
    "    print (\"Correct! You FindBusinessByCity function passes these test cases. This does not cover all possible test edge cases, however, so make sure that your function covers them before submitting!\")"
   ]
  },
  {
   "cell_type": "code",
   "execution_count": 44,
   "metadata": {
    "scrolled": false
   },
   "outputs": [
    {
     "name": "stdout",
     "output_type": "stream",
     "text": [
      "Correct! Your FindBusinessBasedOnLocation function passes these test cases. This does not cover all possible edge cases, so make sure your function does before submitting.\n"
     ]
    }
   ],
   "source": [
    "true_results = [\"VinciTorio's Restaurant\"]\n",
    "\n",
    "try:\n",
    "    FindBusinessBasedOnLocation(['Buffets'], [33.3482589, -111.9088346], 10, 'output_loc.txt', data)\n",
    "except NameError as e: \n",
    "    print ('The FindBusinessBasedOnLocation function is not defined! You must run the cell containing the function before running this evaluation cell.')\n",
    "except TypeError as e:\n",
    "    print (\"The FindBusinessBasedOnLocation function is supposed to accept five arguments. Yours does not!\")\n",
    "    \n",
    "try:\n",
    "    opf = open('output_loc.txt','r')\n",
    "except FileNotFoundError as e:\n",
    "    print (\"The FindBusinessBasedOnLocation function does not write data to the correct location.\")\n",
    "\n",
    "lines = opf.readlines()\n",
    "if len(lines) != 1:\n",
    "    print (\"The FindBusinessBasedOnLocation function does not find the correct number of results, should be only 1.\")\n",
    "\n",
    "if lines[0].strip() == true_results[0]:\n",
    "    print (\"Correct! Your FindBusinessBasedOnLocation function passes these test cases. This does not cover all possible edge cases, so make sure your function does before submitting.\")"
   ]
  },
  {
   "cell_type": "code",
   "execution_count": 45,
   "metadata": {
    "scrolled": true
   },
   "outputs": [
    {
     "name": "stdout",
     "output_type": "stream",
     "text": [
      "Correct! You FindBusinessByCity function passes these test cases. This does not cover all possible test edge cases, however, so make sure that your function covers them before submitting!\n"
     ]
    }
   ],
   "source": [
    "true_results =['3 Palms$7707 E McDowell Rd, Scottsdale, AZ 85257$Scottsdale$AZ', \"Bob's Bike Shop$1608 N Miller Rd, Scottsdale, AZ 85257$Scottsdale$AZ\", 'Ronan & Tagart, PLC$8980 E Raintree Dr, Ste 120, Scottsdale, AZ 85260$Scottsdale$AZ', \"Sangria's$7700 E McCormick Pkwy, Scottsdale, AZ 85258$Scottsdale$AZ\", 'Turf Direct$8350 E Evans Rd, Scottsdale, AZ 85260$Scottsdale$AZ']\n",
    "try: \n",
    "    FindBusinessBasedOnCity('Scottsdale', 'output_city.txt', data) \n",
    "except NameError as e: \n",
    "    print ('The FindBusinessBasedOnCity function is not defined! You must run the cell containing the function before running this evaluation cell.') \n",
    "except TypeError as e: \n",
    "    print(e) \n",
    "    print (\"The FindBusinessBasedOnCity function is supposed to accept three arguments. Yours does not!\") \n",
    "try: \n",
    "    opf = open('output_city.txt', 'r') \n",
    "except FileNotFoundError as e: \n",
    "    print (\"The FindBusinessBasedOnCity function does not write data to the correct location.\") \n",
    "lines = opf.readlines()\n",
    "if len(lines) != 5:\n",
    "    print (\"The FindBusinessBasedOnCity function does not find the correct number of results, should be 3.\") \n",
    "lines = [line.strip() for line in lines]\n",
    "if sorted(lines) == sorted(true_results):\n",
    "    print (\"Correct! You FindBusinessByCity function passes these test cases. This does not cover all possible test edge cases, however, so make sure that your function covers them before submitting!\")\n"
   ]
  },
  {
   "cell_type": "code",
   "execution_count": 46,
   "metadata": {},
   "outputs": [
    {
     "name": "stdout",
     "output_type": "stream",
     "text": [
      "Correct! You FindBusinessByCity function passes these test cases. This does not cover all possible test edge cases, however, so make sure that your function covers them before submitting!\n"
     ]
    }
   ],
   "source": [
    "true_results =['Arizona Exterminating Co.$521 E Broadway Rd, Mesa, AZ 85204$Mesa$AZ', 'Bikram Yoga$1940 W 8th St, Ste 111, Mesa, AZ 85202$Mesa$AZ', \"Denny's Restaurant$1330 S Power Rd, Mesa, AZ 85206$Mesa$AZ\", 'Diamondback Gymnastics$7211 E Southern Avenue, Mesa, AZ 85209$Mesa$AZ', 'Southeast Valley Medical Group$1950 S Country Club Dr, Mesa, AZ 85210$Mesa$AZ', 'Spa Pima$2150 S Power Rd, Mesa, AZ 85209$Mesa$AZ', 'The Seafood Market$1910 S Gilbert Rd, Mesa, AZ 85204$Mesa$AZ']\n",
    "try:\n",
    "    FindBusinessBasedOnCity('Mesa', 'output_city.txt', data) \n",
    "except NameError as e: \n",
    "    print ('The FindBusinessBasedOnCity function is not defined! You must run the cell containing the function before running this evaluation cell.') \n",
    "except TypeError as e: \n",
    "    print(e) \n",
    "    print (\"The FindBusinessBasedOnCity function is supposed to accept three arguments. Yours does not!\") \n",
    "try: \n",
    "    opf = open('output_city.txt', 'r') \n",
    "except FileNotFoundError as e: \n",
    "    print (\"The FindBusinessBasedOnCity function does not write data to the correct location.\") \n",
    "lines = opf.readlines()\n",
    "if len(lines) != 7:\n",
    "    print (\"The FindBusinessBasedOnCity function does not find the correct number of results, should be 3.\") \n",
    "lines = [line.strip() for line in lines]\n",
    "if sorted(lines) == sorted(true_results):\n",
    "    print (\"Correct! You FindBusinessByCity function passes these test cases. This does not cover all possible test edge cases, however, so make sure that your function covers them before submitting!\") \n"
   ]
  },
  {
   "cell_type": "code",
   "execution_count": 47,
   "metadata": {},
   "outputs": [
    {
     "name": "stdout",
     "output_type": "stream",
     "text": [
      "Correct! Your FindBusinessBasedOnLocation function passes these test cases. This does not cover all possible edge cases, so make sure your function does before submitting.\n"
     ]
    }
   ],
   "source": [
    "true_results =['Turf Direct']\n",
    "try: \n",
    "    FindBusinessBasedOnLocation(['Gardeners'], [33.3482589, -111.9088346], 20, 'output_loc.txt', data)\n",
    "except NameError as e: \n",
    "    print ('The FindBusinessBasedOnLocation function is not defined! You must run the cell containing the function before running this evaluation cell.') \n",
    "except TypeError as e: \n",
    "    print (\"The FindBusinessBasedOnLocation function is supposed to accept five arguments. Yours does not!\") \n",
    "try:\n",
    "    opf = open('output_loc.txt','r') \n",
    "except FileNotFoundError as e: \n",
    "    print (\"The FindBusinessBasedOnLocation function does not write data to the correct location.\") \n",
    "lines = opf.readlines()\n",
    "if len(lines) != 1:\n",
    "    print (\"The FindBusinessBasedOnLocation function does not find the correct number of results, should be only 1.\") \n",
    "lines = [line.strip() for line in lines]\n",
    "if sorted(lines) == sorted(true_results):\n",
    "    print (\"Correct! Your FindBusinessBasedOnLocation function passes these test cases. This does not cover all possible edge cases, so make sure your function does before submitting.\")\n"
   ]
  },
  {
   "cell_type": "code",
   "execution_count": 48,
   "metadata": {},
   "outputs": [
    {
     "name": "stdout",
     "output_type": "stream",
     "text": [
      "Correct! Your FindBusinessBasedOnLocation function passes these test cases. This does not cover all possible edge cases, so make sure your function does before submitting.\n"
     ]
    }
   ],
   "source": [
    "true_results = ['Nothing Bundt Cakes', 'P.croissants'] \n",
    "try: \n",
    "    FindBusinessBasedOnLocation(['Bakeries'], [33.3482589, -111.9088346], 15, 'output_loc.txt', data)\n",
    "\n",
    "except NameError as e: \n",
    "    print ('The FindBusinessBasedOnLocation function is not defined! You must run the cell containing the function before running this evaluation cell.') \n",
    "except TypeError as e: \n",
    "    print (\"The FindBusinessBasedOnLocation function is supposed to accept five arguments. Yours does not!\")\n",
    "try: \n",
    "    opf = open('output_loc.txt','r') \n",
    "except FileNotFoundError as e: \n",
    "    print (\"The FindBusinessBasedOnLocation function does not write data to the correct location.\")\n",
    "lines = opf.readlines()\n",
    "if len(lines) != 2: \n",
    "    print (\"The FindBusinessBasedOnLocation function does not find the correct number of results, should be only 1.\")\n",
    "lines = [line.strip() for line in lines]\n",
    "if sorted(lines) == sorted(true_results): \n",
    "    print (\"Correct! Your FindBusinessBasedOnLocation function passes these test cases. This does not cover all possible edge cases, so make sure your function does before submitting.\")\n"
   ]
  },
  {
   "cell_type": "code",
   "execution_count": 49,
   "metadata": {},
   "outputs": [
    {
     "name": "stdout",
     "output_type": "stream",
     "text": [
      "Correct! Your FindBusinessBasedOnLocation function passes these test cases. This does not cover all possible edge cases, so make sure your function does before submitting.\n"
     ]
    }
   ],
   "source": [
    "true_results = ['Nothing Bundt Cakes', 'Olive Creations', 'P.croissants', 'The Seafood Market']\n",
    "try: \n",
    "    FindBusinessBasedOnLocation(['Food', 'Specialty Food'], [33.3482589, -111.9088346], 30, 'output_loc.txt', data) \n",
    "\n",
    "except NameError as e: \n",
    "    print ('The FindBusinessBasedOnLocation function is not defined! You must run the cell containing the function before running this evaluation cell.') \n",
    "except TypeError as e: \n",
    "    print (\"The FindBusinessBasedOnLocation function is supposed to accept five arguments. Yours does not!\")\n",
    "try: \n",
    "    opf = open('output_loc.txt','r') \n",
    "except FileNotFoundError as e: \n",
    "    print (\"The FindBusinessBasedOnLocation function does not write data to the correct location.\")\n",
    "lines = opf.readlines()\n",
    "if len(lines) != 4: \n",
    "    print (\"The FindBusinessBasedOnLocation function does not find the correct number of results, should be only 1.\")\n",
    "lines = [line.strip() for line in lines]\n",
    "if sorted(lines) == sorted(true_results): \n",
    "    print (\"Correct! Your FindBusinessBasedOnLocation function passes these test cases. This does not cover all possible edge cases, so make sure your function does before submitting.\")\n"
   ]
  },
  {
   "cell_type": "code",
   "execution_count": null,
   "metadata": {
    "collapsed": true
   },
   "outputs": [],
   "source": []
  }
 ],
 "metadata": {
  "kernelspec": {
   "display_name": "Python 3",
   "language": "python",
   "name": "python3"
  },
  "language_info": {
   "codemirror_mode": {
    "name": "ipython",
    "version": 3
   },
   "file_extension": ".py",
   "mimetype": "text/x-python",
   "name": "python",
   "nbconvert_exporter": "python",
   "pygments_lexer": "ipython3",
   "version": "3.6.2"
  }
 },
 "nbformat": 4,
 "nbformat_minor": 2
}
